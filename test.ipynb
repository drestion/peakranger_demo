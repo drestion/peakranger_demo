import matplotlib.pyplot as plt
a=np.loadtxt('1862.bow_chr2.wig', skiprows=4)
d = a[np.all([(a>95403620-1000),(a<95403620+1000)],axis=0)[:,0]]
plt.plot(d[:,0],d[:,1])
d[:,0]-95403620+1000
